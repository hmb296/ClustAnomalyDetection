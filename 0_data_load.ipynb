{
 "cells": [
  {
   "cell_type": "markdown",
   "id": "e652b268",
   "metadata": {},
   "source": [
    "## Loading `Arrhythmia` dataset\n",
    "\n",
    "Obtained from: https://archive.ics.uci.edu/dataset/5/arrhythmia"
   ]
  },
  {
   "cell_type": "code",
   "execution_count": 57,
   "id": "3ec1aee7",
   "metadata": {},
   "outputs": [],
   "source": [
    "h = [\"Age\",\"Sex\",\"Height\",\"Weight\",\"QRSduration\",\"PRinterval\",\"QTinterval\",\"Tinterval\",\"Pinterval\",\"QRS\",\n",
    "\"T\",\"P\",\"QRST\",\"J\",\"HR\"]\n",
    "\n",
    "for i in range(16,280):\n",
    "    h.append(str(i))\n",
    "\n",
    "h.append(\"Class type\")"
   ]
  },
  {
   "cell_type": "code",
   "execution_count": 58,
   "id": "d0c97f88",
   "metadata": {},
   "outputs": [],
   "source": [
    "import pandas as pd\n",
    "d = pd.read_csv(\"datasets/arrhythmia/arrhythmia.data\", header=None, names=h)"
   ]
  },
  {
   "cell_type": "code",
   "execution_count": 56,
   "id": "1344b3d2",
   "metadata": {},
   "outputs": [],
   "source": [
    "d.to_csv(\"arrhythmia.csv\")"
   ]
  },
  {
   "cell_type": "markdown",
   "id": "e7aa451d",
   "metadata": {},
   "source": [
    "## Loading `Statlog Heart Disease` dataset"
   ]
  },
  {
   "cell_type": "code",
   "execution_count": 4,
   "id": "0700565a",
   "metadata": {},
   "outputs": [],
   "source": [
    "from ucimlrepo import fetch_ucirepo \n",
    "\n",
    "# fetch dataset \n",
    "statlog_heart = fetch_ucirepo(id=145) \n",
    "\n",
    "# data (as pandas dataframes) \n",
    "X = statlog_heart.data.features \n",
    "y = statlog_heart.data.targets \n",
    "\n",
    "X[\"target\"] = y\n",
    "X.to_csv(\"statlog_heart.csv\", index=False)"
   ]
  },
  {
   "cell_type": "code",
   "execution_count": 66,
   "id": "4128a1c7",
   "metadata": {},
   "outputs": [
    {
     "data": {
      "text/html": [
       "<div>\n",
       "<style scoped>\n",
       "    .dataframe tbody tr th:only-of-type {\n",
       "        vertical-align: middle;\n",
       "    }\n",
       "\n",
       "    .dataframe tbody tr th {\n",
       "        vertical-align: top;\n",
       "    }\n",
       "\n",
       "    .dataframe thead th {\n",
       "        text-align: right;\n",
       "    }\n",
       "</style>\n",
       "<table border=\"1\" class=\"dataframe\">\n",
       "  <thead>\n",
       "    <tr style=\"text-align: right;\">\n",
       "      <th></th>\n",
       "      <th>age</th>\n",
       "      <th>sex</th>\n",
       "      <th>chest-pain</th>\n",
       "      <th>rest-bp</th>\n",
       "      <th>serum-chol</th>\n",
       "      <th>fasting-blood-sugar</th>\n",
       "      <th>electrocardiographic</th>\n",
       "      <th>max-heart-rate</th>\n",
       "      <th>angina</th>\n",
       "      <th>oldpeak</th>\n",
       "      <th>slope</th>\n",
       "      <th>major-vessels</th>\n",
       "      <th>thal</th>\n",
       "      <th>target</th>\n",
       "    </tr>\n",
       "  </thead>\n",
       "  <tbody>\n",
       "    <tr>\n",
       "      <th>count</th>\n",
       "      <td>270.000000</td>\n",
       "      <td>270.000000</td>\n",
       "      <td>270.000000</td>\n",
       "      <td>270.000000</td>\n",
       "      <td>270.000000</td>\n",
       "      <td>270.000000</td>\n",
       "      <td>270.000000</td>\n",
       "      <td>270.000000</td>\n",
       "      <td>270.000000</td>\n",
       "      <td>270.00000</td>\n",
       "      <td>270.000000</td>\n",
       "      <td>270.000000</td>\n",
       "      <td>270.000000</td>\n",
       "      <td>270.000000</td>\n",
       "    </tr>\n",
       "    <tr>\n",
       "      <th>mean</th>\n",
       "      <td>54.433333</td>\n",
       "      <td>0.677778</td>\n",
       "      <td>3.174074</td>\n",
       "      <td>131.344444</td>\n",
       "      <td>249.659259</td>\n",
       "      <td>0.148148</td>\n",
       "      <td>1.022222</td>\n",
       "      <td>149.677778</td>\n",
       "      <td>0.329630</td>\n",
       "      <td>1.05000</td>\n",
       "      <td>1.585185</td>\n",
       "      <td>0.670370</td>\n",
       "      <td>4.696296</td>\n",
       "      <td>1.444444</td>\n",
       "    </tr>\n",
       "    <tr>\n",
       "      <th>std</th>\n",
       "      <td>9.109067</td>\n",
       "      <td>0.468195</td>\n",
       "      <td>0.950090</td>\n",
       "      <td>17.861608</td>\n",
       "      <td>51.686237</td>\n",
       "      <td>0.355906</td>\n",
       "      <td>0.997891</td>\n",
       "      <td>23.165717</td>\n",
       "      <td>0.470952</td>\n",
       "      <td>1.14521</td>\n",
       "      <td>0.614390</td>\n",
       "      <td>0.943896</td>\n",
       "      <td>1.940659</td>\n",
       "      <td>0.497827</td>\n",
       "    </tr>\n",
       "    <tr>\n",
       "      <th>min</th>\n",
       "      <td>29.000000</td>\n",
       "      <td>0.000000</td>\n",
       "      <td>1.000000</td>\n",
       "      <td>94.000000</td>\n",
       "      <td>126.000000</td>\n",
       "      <td>0.000000</td>\n",
       "      <td>0.000000</td>\n",
       "      <td>71.000000</td>\n",
       "      <td>0.000000</td>\n",
       "      <td>0.00000</td>\n",
       "      <td>1.000000</td>\n",
       "      <td>0.000000</td>\n",
       "      <td>3.000000</td>\n",
       "      <td>1.000000</td>\n",
       "    </tr>\n",
       "    <tr>\n",
       "      <th>25%</th>\n",
       "      <td>48.000000</td>\n",
       "      <td>0.000000</td>\n",
       "      <td>3.000000</td>\n",
       "      <td>120.000000</td>\n",
       "      <td>213.000000</td>\n",
       "      <td>0.000000</td>\n",
       "      <td>0.000000</td>\n",
       "      <td>133.000000</td>\n",
       "      <td>0.000000</td>\n",
       "      <td>0.00000</td>\n",
       "      <td>1.000000</td>\n",
       "      <td>0.000000</td>\n",
       "      <td>3.000000</td>\n",
       "      <td>1.000000</td>\n",
       "    </tr>\n",
       "    <tr>\n",
       "      <th>50%</th>\n",
       "      <td>55.000000</td>\n",
       "      <td>1.000000</td>\n",
       "      <td>3.000000</td>\n",
       "      <td>130.000000</td>\n",
       "      <td>245.000000</td>\n",
       "      <td>0.000000</td>\n",
       "      <td>2.000000</td>\n",
       "      <td>153.500000</td>\n",
       "      <td>0.000000</td>\n",
       "      <td>0.80000</td>\n",
       "      <td>2.000000</td>\n",
       "      <td>0.000000</td>\n",
       "      <td>3.000000</td>\n",
       "      <td>1.000000</td>\n",
       "    </tr>\n",
       "    <tr>\n",
       "      <th>75%</th>\n",
       "      <td>61.000000</td>\n",
       "      <td>1.000000</td>\n",
       "      <td>4.000000</td>\n",
       "      <td>140.000000</td>\n",
       "      <td>280.000000</td>\n",
       "      <td>0.000000</td>\n",
       "      <td>2.000000</td>\n",
       "      <td>166.000000</td>\n",
       "      <td>1.000000</td>\n",
       "      <td>1.60000</td>\n",
       "      <td>2.000000</td>\n",
       "      <td>1.000000</td>\n",
       "      <td>7.000000</td>\n",
       "      <td>2.000000</td>\n",
       "    </tr>\n",
       "    <tr>\n",
       "      <th>max</th>\n",
       "      <td>77.000000</td>\n",
       "      <td>1.000000</td>\n",
       "      <td>4.000000</td>\n",
       "      <td>200.000000</td>\n",
       "      <td>564.000000</td>\n",
       "      <td>1.000000</td>\n",
       "      <td>2.000000</td>\n",
       "      <td>202.000000</td>\n",
       "      <td>1.000000</td>\n",
       "      <td>6.20000</td>\n",
       "      <td>3.000000</td>\n",
       "      <td>3.000000</td>\n",
       "      <td>7.000000</td>\n",
       "      <td>2.000000</td>\n",
       "    </tr>\n",
       "  </tbody>\n",
       "</table>\n",
       "</div>"
      ],
      "text/plain": [
       "              age         sex  chest-pain     rest-bp  serum-chol  \\\n",
       "count  270.000000  270.000000  270.000000  270.000000  270.000000   \n",
       "mean    54.433333    0.677778    3.174074  131.344444  249.659259   \n",
       "std      9.109067    0.468195    0.950090   17.861608   51.686237   \n",
       "min     29.000000    0.000000    1.000000   94.000000  126.000000   \n",
       "25%     48.000000    0.000000    3.000000  120.000000  213.000000   \n",
       "50%     55.000000    1.000000    3.000000  130.000000  245.000000   \n",
       "75%     61.000000    1.000000    4.000000  140.000000  280.000000   \n",
       "max     77.000000    1.000000    4.000000  200.000000  564.000000   \n",
       "\n",
       "       fasting-blood-sugar  electrocardiographic  max-heart-rate      angina  \\\n",
       "count           270.000000            270.000000      270.000000  270.000000   \n",
       "mean              0.148148              1.022222      149.677778    0.329630   \n",
       "std               0.355906              0.997891       23.165717    0.470952   \n",
       "min               0.000000              0.000000       71.000000    0.000000   \n",
       "25%               0.000000              0.000000      133.000000    0.000000   \n",
       "50%               0.000000              2.000000      153.500000    0.000000   \n",
       "75%               0.000000              2.000000      166.000000    1.000000   \n",
       "max               1.000000              2.000000      202.000000    1.000000   \n",
       "\n",
       "         oldpeak       slope  major-vessels        thal      target  \n",
       "count  270.00000  270.000000     270.000000  270.000000  270.000000  \n",
       "mean     1.05000    1.585185       0.670370    4.696296    1.444444  \n",
       "std      1.14521    0.614390       0.943896    1.940659    0.497827  \n",
       "min      0.00000    1.000000       0.000000    3.000000    1.000000  \n",
       "25%      0.00000    1.000000       0.000000    3.000000    1.000000  \n",
       "50%      0.80000    2.000000       0.000000    3.000000    1.000000  \n",
       "75%      1.60000    2.000000       1.000000    7.000000    2.000000  \n",
       "max      6.20000    3.000000       3.000000    7.000000    2.000000  "
      ]
     },
     "execution_count": 66,
     "metadata": {},
     "output_type": "execute_result"
    }
   ],
   "source": [
    "X.describe()"
   ]
  },
  {
   "cell_type": "markdown",
   "id": "71173006",
   "metadata": {},
   "source": [
    "## Loading `Cirrhosis` dataset"
   ]
  },
  {
   "cell_type": "code",
   "execution_count": 68,
   "id": "c96b2683",
   "metadata": {},
   "outputs": [],
   "source": [
    "# fetch dataset \n",
    "cirrhosis_patient_survival_prediction = fetch_ucirepo(id=878) \n",
    "  \n",
    "# data (as pandas dataframes) \n",
    "X = cirrhosis_patient_survival_prediction.data.features \n",
    "y = cirrhosis_patient_survival_prediction.data.targets "
   ]
  },
  {
   "cell_type": "code",
   "execution_count": 70,
   "id": "f0c47586",
   "metadata": {},
   "outputs": [
    {
     "name": "stderr",
     "output_type": "stream",
     "text": [
      "/var/folders/lh/s2l49w850tq2lvbfyqst82j00000gn/T/ipykernel_70877/655105541.py:1: SettingWithCopyWarning: \n",
      "A value is trying to be set on a copy of a slice from a DataFrame.\n",
      "Try using .loc[row_indexer,col_indexer] = value instead\n",
      "\n",
      "See the caveats in the documentation: https://pandas.pydata.org/pandas-docs/stable/user_guide/indexing.html#returning-a-view-versus-a-copy\n",
      "  X[\"target\"] = y\n"
     ]
    }
   ],
   "source": [
    "X[\"target\"] = y\n",
    "X.to_csv(\"cirrhosis.csv\", index=False)"
   ]
  },
  {
   "cell_type": "markdown",
   "id": "443898fb",
   "metadata": {},
   "source": [
    "## Loading `AIDS` dataset"
   ]
  },
  {
   "cell_type": "code",
   "execution_count": 73,
   "id": "97491f9d",
   "metadata": {},
   "outputs": [],
   "source": [
    "# fetch dataset \n",
    "aids_clinical_trials_group_study_175 = fetch_ucirepo(id=890) \n",
    "  \n",
    "# data (as pandas dataframes) \n",
    "X = aids_clinical_trials_group_study_175.data.features \n",
    "y = aids_clinical_trials_group_study_175.data.targets"
   ]
  },
  {
   "cell_type": "code",
   "execution_count": null,
   "id": "ca1a0675",
   "metadata": {},
   "outputs": [
    {
     "name": "stderr",
     "output_type": "stream",
     "text": [
      "/var/folders/lh/s2l49w850tq2lvbfyqst82j00000gn/T/ipykernel_70877/3525803319.py:1: SettingWithCopyWarning: \n",
      "A value is trying to be set on a copy of a slice from a DataFrame.\n",
      "Try using .loc[row_indexer,col_indexer] = value instead\n",
      "\n",
      "See the caveats in the documentation: https://pandas.pydata.org/pandas-docs/stable/user_guide/indexing.html#returning-a-view-versus-a-copy\n",
      "  X[\"target\"] = y\n"
     ]
    }
   ],
   "source": [
    "X[\"target\"] = y\n",
    "X.to_csv(\"aids.csv\", index=False)"
   ]
  },
  {
   "cell_type": "markdown",
   "id": "ebe90519",
   "metadata": {},
   "source": [
    "## Loading `Obesity` dataset"
   ]
  },
  {
   "cell_type": "code",
   "execution_count": 75,
   "id": "94a0d68d",
   "metadata": {},
   "outputs": [],
   "source": [
    "# fetch dataset \n",
    "estimation_of_obesity_levels_based_on_eating_habits_and_physical_condition = fetch_ucirepo(id=544) \n",
    "  \n",
    "# data (as pandas dataframes) \n",
    "X = estimation_of_obesity_levels_based_on_eating_habits_and_physical_condition.data.features \n",
    "y = estimation_of_obesity_levels_based_on_eating_habits_and_physical_condition.data.targets "
   ]
  },
  {
   "cell_type": "code",
   "execution_count": 76,
   "id": "5ace25d7",
   "metadata": {},
   "outputs": [],
   "source": [
    "X[\"target\"] = y\n",
    "X.to_csv(\"obesity.csv\", index=False)"
   ]
  },
  {
   "cell_type": "markdown",
   "id": "763fe086",
   "metadata": {},
   "source": [
    "## Loading `Diabetes` dataset"
   ]
  },
  {
   "cell_type": "code",
   "execution_count": 53,
   "id": "223254ec",
   "metadata": {},
   "outputs": [],
   "source": [
    "# fetch dataset \n",
    "cdc_diabetes_health_indicators = fetch_ucirepo(id=891) \n",
    "  \n",
    "# data (as pandas dataframes) \n",
    "X = cdc_diabetes_health_indicators.data.features \n",
    "y = cdc_diabetes_health_indicators.data.targets"
   ]
  },
  {
   "cell_type": "code",
   "execution_count": 54,
   "id": "9ef19a7a",
   "metadata": {},
   "outputs": [],
   "source": [
    "X[\"target\"] = y\n",
    "X.to_csv(\"diabestes_indicators.csv\", index=False)"
   ]
  },
  {
   "cell_type": "markdown",
   "id": "8db40135",
   "metadata": {},
   "source": [
    "## `Liver Patients` dataset"
   ]
  },
  {
   "cell_type": "code",
   "execution_count": null,
   "id": "e604c1a7",
   "metadata": {},
   "outputs": [],
   "source": [
    "# fetch dataset \n",
    "ilpd_indian_liver_patient_dataset = fetch_ucirepo(id=225) \n",
    "  \n",
    "# data (as pandas dataframes) \n",
    "X = ilpd_indian_liver_patient_dataset.data.features \n",
    "y = ilpd_indian_liver_patient_dataset.data.targets \n",
    "  \n",
    "X[\"target\"] = y\n",
    "X.to_csv(\"liver_patient.csv\", index=False)"
   ]
  },
  {
   "cell_type": "markdown",
   "id": "cafd5c16",
   "metadata": {},
   "source": [
    "## `Heart Failure` dataset"
   ]
  },
  {
   "cell_type": "code",
   "execution_count": null,
   "id": "c0db4f99",
   "metadata": {},
   "outputs": [],
   "source": [
    "# fetch dataset \n",
    "heart_failure_clinical_records = fetch_ucirepo(id=519) \n",
    "  \n",
    "# data (as pandas dataframes) \n",
    "X = heart_failure_clinical_records.data.features \n",
    "y = heart_failure_clinical_records.data.targets \n",
    "\n",
    "X[\"target\"] = y\n",
    "X.to_csv(\"heart_failure.csv\", index=False)"
   ]
  },
  {
   "cell_type": "markdown",
   "id": "42a76399",
   "metadata": {},
   "source": [
    "## `MIMIC-II` dataset"
   ]
  },
  {
   "cell_type": "code",
   "execution_count": null,
   "id": "f0b38f57",
   "metadata": {},
   "outputs": [],
   "source": [
    "import ehrapy as ep\n",
    "adata = ep.dt.mimic_2(encoded=False)\n",
    "data = adata.to_df()\n",
    "\n",
    "data.to_csv(\"mimic2.csv\", index=False)"
   ]
  }
 ],
 "metadata": {
  "kernelspec": {
   "display_name": "Python 3",
   "language": "python",
   "name": "python3"
  },
  "language_info": {
   "codemirror_mode": {
    "name": "ipython",
    "version": 3
   },
   "file_extension": ".py",
   "mimetype": "text/x-python",
   "name": "python",
   "nbconvert_exporter": "python",
   "pygments_lexer": "ipython3",
   "version": "3.12.7"
  }
 },
 "nbformat": 4,
 "nbformat_minor": 5
}
